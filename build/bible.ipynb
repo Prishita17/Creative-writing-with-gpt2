import requests

res = requests.get('http://www.gutenberg.org/cache/epub/10/pg10.txt')

with open('raw.txt', 'w') as fi:
    fi.write(res.text)
